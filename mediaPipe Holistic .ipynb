{
 "cells": [
  {
   "cell_type": "code",
   "execution_count": 2,
   "id": "7351bb1a",
   "metadata": {},
   "outputs": [],
   "source": [
    "import mediapipe as mp\n",
    "import cv2"
   ]
  },
  {
   "cell_type": "code",
   "execution_count": 3,
   "id": "d220d318",
   "metadata": {},
   "outputs": [],
   "source": [
    "mp_drawing = mp.solutions.drawing_utils\n",
    "mp_holistic = mp.solutions.holistic"
   ]
  },
  {
   "cell_type": "code",
   "execution_count": 7,
   "id": "fe404fe8",
   "metadata": {},
   "outputs": [],
   "source": [
    "cap = cv2.VideoCapture(0)\n",
    "while True:\n",
    "    ret, frame = cap.read()\n",
    "    cv2.imshow('Holistic Model Detection',frame)\n",
    "    \n",
    "    if (cv2.waitKey(1) & 0xFF == ord('q')):\n",
    "        break\n",
    "# cap.release()\n",
    "cv2.destroyAllWindows()"
   ]
  },
  {
   "cell_type": "code",
   "execution_count": 42,
   "id": "cdddfadc",
   "metadata": {},
   "outputs": [],
   "source": [
    "cap = cv2.VideoCapture(0)\n",
    "with mp_holistic.Holistic(min_detection_confidence=0.5, min_tracking_confidence=0.5) as holistic:\n",
    "    while True:\n",
    "        ret, frame = cap.read()\n",
    "        image=cv2.cvtColor(frame,cv2.COLOR_BGR2RGB)\n",
    "        results=holistic.process(image)\n",
    "        # print(results.face_landmarks)\n",
    "        flms=results.face_landmarks\n",
    "        plms=results.pose_landmarks\n",
    "        rhlms=results.right_hand_landmarks\n",
    "        lhlms=results.left_hand_landmarks\n",
    "        # face_lamdmarks, pose_landmarks, left_hand_landmarks, right_hand_landmarks\n",
    "        \n",
    "        #recoloring image to BGR space\n",
    "        image=cv2.cvtColor(image,cv2.COLOR_RGB2BGR)\n",
    "        \n",
    "        #drawing face landmarks\n",
    "        mp_drawing.draw_landmarks(image, flms, mp_holistic.FACE_CONNECTIONS)\n",
    "\n",
    "        #drawing right hand landmarks\n",
    "        mp_drawing.draw_landmarks(image, rhlms, mp_holistic.HAND_CONNECTIONS,\n",
    "                                 mp_drawing.DrawingSpec(color=(1,200,34), thickness=1,circle_radius=10),\n",
    "                                 mp_drawing.DrawingSpec(color=(1,2,34), thickness=1,circle_radius=100))\n",
    "        \n",
    "        #drawing left hand landmarks\n",
    "        mp_drawing.draw_landmarks(image, lhlms, mp_holistic.HAND_CONNECTIONS)\n",
    "        \n",
    "        #drawing pose landmarks\n",
    "        mp_drawing.draw_landmarks(image, plms, mp_holistic.POSE_CONNECTIONS)\n",
    "        \n",
    "        cv2.imshow('Holistic Model Detection',image)\n",
    "\n",
    "        if (cv2.waitKey(1) & 0xFF == ord('q')):\n",
    "            break\n",
    "cap.release()\n",
    "cv2.destroyAllWindows()"
   ]
  }
 ],
 "metadata": {
  "kernelspec": {
   "display_name": "Python 3",
   "language": "python",
   "name": "python3"
  },
  "language_info": {
   "codemirror_mode": {
    "name": "ipython",
    "version": 3
   },
   "file_extension": ".py",
   "mimetype": "text/x-python",
   "name": "python",
   "nbconvert_exporter": "python",
   "pygments_lexer": "ipython3",
   "version": "3.9.4"
  }
 },
 "nbformat": 4,
 "nbformat_minor": 5
}
